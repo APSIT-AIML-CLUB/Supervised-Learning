{
 "cells": [
  {
   "cell_type": "markdown",
   "metadata": {
    "id": "Q8X8xDwS6vgS"
   },
   "source": [
    "# Classification"
   ]
  },
  {
   "cell_type": "markdown",
   "metadata": {
    "id": "PEGG4I6n60cM"
   },
   "source": [
    "## Importing the libraries"
   ]
  },
  {
   "cell_type": "code",
   "execution_count": null,
   "metadata": {
    "id": "D4b029YC7C-y"
   },
   "outputs": [],
   "source": [
    "import pandas as pd\n",
    "import numpy as np\n",
    "import matplotlib.pyplot as plt"
   ]
  },
  {
   "cell_type": "markdown",
   "metadata": {
    "id": "Aa536pRY7Eq5"
   },
   "source": [
    "## Importing the dataset"
   ]
  },
  {
   "cell_type": "code",
   "execution_count": null,
   "metadata": {
    "colab": {
     "base_uri": "https://localhost:8080/",
     "height": 441
    },
    "id": "4POXlqg47Ny3",
    "outputId": "b639cb06-5454-48e5-f30b-d06afd7de38f"
   },
   "outputs": [],
   "source": [
    "# Read the csv file into a dataframe\n",
    "dataset = pd.FIXME('FIXME')\n",
    "dataset"
   ]
  },
  {
   "cell_type": "code",
   "execution_count": null,
   "metadata": {
    "colab": {
     "base_uri": "https://localhost:8080/",
     "height": 424
    },
    "id": "22jeLIzyRnHu",
    "outputId": "4ee779b5-df61-4e70-f426-8c67bb79e885"
   },
   "outputs": [],
   "source": [
    "# Drop the first redundant column: \"Sample code number\"\n",
    "dataset.drop('FIXME', axis=FIXME, inplace=True)\n",
    "dataset"
   ]
  },
  {
   "cell_type": "code",
   "execution_count": null,
   "metadata": {
    "colab": {
     "base_uri": "https://localhost:8080/"
    },
    "id": "62XH6fPlR9F9",
    "outputId": "69e21d33-3fc5-49ba-890d-38b6c7bcaea8"
   },
   "outputs": [],
   "source": [
    "# Run the info() method on the dataset\n",
    "dataset.FIXME()"
   ]
  },
  {
   "cell_type": "code",
   "execution_count": null,
   "metadata": {
    "colab": {
     "base_uri": "https://localhost:8080/",
     "height": 318
    },
    "id": "Z6Et2NHzSB5b",
    "outputId": "7b8dd808-0785-47ae-943e-093eac14351d"
   },
   "outputs": [],
   "source": [
    "# Get the statistical measures like min, max, 25%ile, 75%ile from the dataset\n",
    "dataset.FIXME()"
   ]
  },
  {
   "cell_type": "markdown",
   "metadata": {
    "id": "UKLAO0ayRN2K"
   },
   "source": [
    "## Splitting the dataset into the Independent and Dependent variable"
   ]
  },
  {
   "cell_type": "code",
   "execution_count": null,
   "metadata": {
    "id": "UK1Y4gbaRMyv"
   },
   "outputs": [],
   "source": [
    "# Split the dataset into X and y, using the \"index location\" pandas method\n",
    "X = dataset.FIXME[FIXME, FIXME].values # should contain all cols except the last one\n",
    "y = dataset.FIXME[FIXME, FIXME].values # should contain only the last column\n",
    "\n",
    "# In y, y = 2 is benign (non-cancerous tumour) and y = 4 is malignant (cancerous tumour)"
   ]
  },
  {
   "cell_type": "code",
   "execution_count": null,
   "metadata": {
    "colab": {
     "base_uri": "https://localhost:8080/"
    },
    "id": "0EI1vrFrSE51",
    "outputId": "a0cda591-1867-4bfb-89f4-7cac03937f4e"
   },
   "outputs": [],
   "source": [
    "X"
   ]
  },
  {
   "cell_type": "code",
   "execution_count": null,
   "metadata": {
    "colab": {
     "base_uri": "https://localhost:8080/"
    },
    "id": "IuRLD0XxSFkR",
    "outputId": "42f0e798-a998-4160-dd64-a29d76b3baff"
   },
   "outputs": [],
   "source": [
    "y"
   ]
  },
  {
   "cell_type": "markdown",
   "metadata": {
    "id": "0AnzJQCj7TLO"
   },
   "source": [
    "## Splitting the dataset into the Training set and Test set"
   ]
  },
  {
   "cell_type": "code",
   "execution_count": null,
   "metadata": {
    "id": "WOQwyng57dp2"
   },
   "outputs": [],
   "source": [
    "from sklearn.model_selection import train_test_split\n",
    "FIXME, FIXME, FIXME, FIXME = FIXME(X, y, test_size = FIXME, random_state = 0)"
   ]
  },
  {
   "cell_type": "code",
   "execution_count": null,
   "metadata": {
    "colab": {
     "base_uri": "https://localhost:8080/"
    },
    "id": "mE2zf6njSKxi",
    "outputId": "dd1da87b-646d-4a85-eb27-5ea787cdfebb"
   },
   "outputs": [],
   "source": [
    "X_train"
   ]
  },
  {
   "cell_type": "code",
   "execution_count": null,
   "metadata": {
    "colab": {
     "base_uri": "https://localhost:8080/"
    },
    "id": "4hQb3ad-SNAG",
    "outputId": "4b62c05f-9f12-4e4d-fc8f-f68af177712e"
   },
   "outputs": [],
   "source": [
    "X_test"
   ]
  },
  {
   "cell_type": "code",
   "execution_count": null,
   "metadata": {
    "colab": {
     "base_uri": "https://localhost:8080/"
    },
    "id": "9Sqv5-1vSOpw",
    "outputId": "5cf5b651-6f66-43c6-c930-4a9f68fc3d90"
   },
   "outputs": [],
   "source": [
    "y_train"
   ]
  },
  {
   "cell_type": "code",
   "execution_count": null,
   "metadata": {
    "colab": {
     "base_uri": "https://localhost:8080/"
    },
    "id": "ECrVkNrqSQ0i",
    "outputId": "e7f27d34-e47f-414e-c18b-be762838005d"
   },
   "outputs": [],
   "source": [
    "y_test"
   ]
  },
  {
   "cell_type": "code",
   "execution_count": null,
   "metadata": {
    "colab": {
     "base_uri": "https://localhost:8080/",
     "height": 391
    },
    "id": "N1Gddg_SWR21",
    "outputId": "b891aed9-3ef2-4b5b-ef36-2cea12b41efa"
   },
   "outputs": [],
   "source": [
    "plt.figure(figsize=(6, 4))\n",
    "plt.bar(['Train', 'Test'], [len(FIXME), len(FIXME)])\n",
    "plt.title('Train-Test Split')\n",
    "plt.ylabel('Number of Samples')\n",
    "plt.show()"
   ]
  },
  {
   "cell_type": "markdown",
   "metadata": {
    "id": "pS1Q-n_A7iZ_"
   },
   "source": [
    "## Training the  models on the Training set"
   ]
  },
  {
   "cell_type": "code",
   "execution_count": null,
   "metadata": {
    "id": "9V-LgiUa78lX"
   },
   "outputs": [],
   "source": [
    "from sklearn.linear_model import LogisticRegression\n",
    "from sklearn.svm import SVC\n",
    "from sklearn.tree import DecisionTreeClassifier\n",
    "from sklearn.metrics import confusion_matrix\n"
   ]
  },
  {
   "cell_type": "markdown",
   "metadata": {
    "id": "plf_2wY8SmVY"
   },
   "source": [
    "## Load models in Dictionary"
   ]
  },
  {
   "cell_type": "code",
   "execution_count": null,
   "metadata": {
    "id": "uGwlw-AESlI4"
   },
   "outputs": [],
   "source": [
    "# Substitute the models from the imports from the above code cell\n",
    "models = {\n",
    "    'Model 1': FIXME(random_state=0),\n",
    "    'Model 2': FIXME(random_state=0),\n",
    "    'Model 3': FIXME(random_state=0)\n",
    "}"
   ]
  },
  {
   "cell_type": "code",
   "execution_count": null,
   "metadata": {
    "colab": {
     "base_uri": "https://localhost:8080/"
    },
    "id": "doZzzPrRTCXM",
    "outputId": "3c2d4587-79b4-48a8-d0b4-b79b7d86c55c"
   },
   "outputs": [],
   "source": [
    "trained_models = {}\n",
    "model_accuracies = {}\n",
    "\n",
    "for model_name, model in models.items():\n",
    "    # Training the model\n",
    "    FIXME.fit(FIXME, FIXME)\n",
    "    trained_models[FIXME] = model\n",
    "\n",
    "    # Predicting the Test set results\n",
    "    y_pred = model.FIXME(FIXME)\n",
    "\n",
    "    # Making the Confusion Matrix\n",
    "    cm = FIXME(FIXME, FIXME)\n",
    "    print(f\"{model_name} - Confusion Matrix:\")\n",
    "    print(cm)"
   ]
  },
  {
   "cell_type": "code",
   "execution_count": null,
   "metadata": {
    "colab": {
     "base_uri": "https://localhost:8080/",
     "height": 468
    },
    "id": "ajNKqvilV5AX",
    "outputId": "c821cb7d-aa67-47b2-a0ed-7afa39ead131"
   },
   "outputs": [],
   "source": [
    "## Plotting Model Comparison\n",
    "plt.figure(figsize=(8, 5))\n",
    "plt.bar(model_accuracies.keys(), model_accuracies.values())\n",
    "plt.title('Model Accuracy Comparison')\n",
    "plt.ylabel('Accuracy (%)')\n",
    "plt.ylim(90, 100)\n",
    "plt.show()"
   ]
  },
  {
   "cell_type": "code",
   "execution_count": null,
   "metadata": {
    "colab": {
     "base_uri": "https://localhost:8080/"
    },
    "id": "K8lU1DueU03O",
    "outputId": "7cd03574-117a-4669-b9c1-7be1a4bf206c"
   },
   "outputs": [],
   "source": [
    "# Making predictions using a fresh datapoint\n",
    "new_data= [[5, 5, 1, 1, 1, 2, 2, 1, 3, 1]]\n",
    "prediction = trained_models['FIXME'].predict(new_data)\n",
    "\n",
    "if prediction[0] == 2:\n",
    "    print(\"Benign\")\n",
    "else:\n",
    "    print(\"Malignant\")"
   ]
  }
 ],
 "metadata": {
  "colab": {
   "provenance": []
  },
  "kernelspec": {
   "display_name": "Python 3 (ipykernel)",
   "language": "python",
   "name": "python3"
  },
  "language_info": {
   "codemirror_mode": {
    "name": "ipython",
    "version": 3
   },
   "file_extension": ".py",
   "mimetype": "text/x-python",
   "name": "python",
   "nbconvert_exporter": "python",
   "pygments_lexer": "ipython3",
   "version": "3.12.2"
  }
 },
 "nbformat": 4,
 "nbformat_minor": 4
}
