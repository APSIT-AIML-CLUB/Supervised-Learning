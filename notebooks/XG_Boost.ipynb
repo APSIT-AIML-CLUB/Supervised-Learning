{
  "nbformat": 4,
  "nbformat_minor": 0,
  "metadata": {
    "colab": {
      "provenance": []
    },
    "kernelspec": {
      "name": "python3",
      "display_name": "Python 3"
    },
    "language_info": {
      "name": "python"
    }
  },
  "cells": [
    {
      "cell_type": "markdown",
      "source": [
        "## Import necessary libraries\n"
      ],
      "metadata": {
        "id": "7NY8rWzQq7xb"
      }
    },
    {
      "cell_type": "code",
      "source": [
        "import pandas as pd\n",
        "from sklearn.model_selection import train_test_split\n",
        "from sklearn.metrics import accuracy_score\n",
        "import xgboost as xgb\n",
        "from sklearn.preprocessing import LabelEncoder\n",
        "import numpy as np"
      ],
      "metadata": {
        "id": "Oz21rz59q9W8"
      },
      "execution_count": 1,
      "execution_count": 22,
      "outputs": []
    },
    {
      "cell_type": "markdown",
      "source": [
        "## Load the dataset\n"
      ],
      "metadata": {
        "id": "lM_0WhF2rBX3"
      }
    },
    {
      "cell_type": "code",
      "source": [
        "iris = pd.read_csv('Iris.csv')"
        "iris = pd.read_csv('iris.csv')"
      ],
      "metadata": {
        "id": "GII6rA4mrECI"
      },

      "execution_count": 3,

      "execution_count": 11,

      "outputs": []
    },
    {
      "cell_type": "markdown",
      "source": [
        "## Check the first few rows of the dataset\n"
      ],
      "metadata": {
        "id": "k4wK4t5OrGZd"
      }
    },
    {
      "cell_type": "code",
      "source": [
        "print(iris.head())"
      ],
      "metadata": {
        "id": "qe6oBo2FrJAk",
        "colab": {
          "base_uri": "https://localhost:8080/"
        },
        "outputId": "be0194e8-8689-4dba-8ddb-3daff8ac159e"
      },
      "execution_count": 4,
        "outputId": "e74bbed5-1c68-4104-d169-14249c7a543d"
      },
      "execution_count": 12,
      "outputs": [
        {
          "output_type": "stream",
          "name": "stdout",
          "text": [
            "   Id  SepalLengthCm  SepalWidthCm  PetalLengthCm  PetalWidthCm      Species\n",
            "0   1            5.1           3.5            1.4           0.2  Iris-setosa\n",
            "1   2            4.9           3.0            1.4           0.2  Iris-setosa\n",
            "2   3            4.7           3.2            1.3           0.2  Iris-setosa\n",
            "3   4            4.6           3.1            1.5           0.2  Iris-setosa\n",
            "4   5            5.0           3.6            1.4           0.2  Iris-setosa\n"
          ]
        }
      ]
    },
    {
      "cell_type": "code",
      "source": [
        "iris = iris.drop(columns=['Id'])"
      ],
      "metadata": {
        "id": "4m6ldruZo1vk"
      },
      "execution_count": 6,
      "outputs": []
    },
    {
            "   sepal_length  sepal_width  petal_length  petal_width species\n",
            "0           5.1          3.5           1.4          0.2  setosa\n",
            "1           4.9          3.0           1.4          0.2  setosa\n",
            "2           4.7          3.2           1.3          0.2  setosa\n",
            "3           4.6          3.1           1.5          0.2  setosa\n",
            "4           5.0          3.6           1.4          0.2  setosa\n"
          ]
        }
      ]
    },
    {
      "cell_type": "markdown",
      "source": [
        "## Split the data into features (X) and target (y)\n"
      ],
      "metadata": {
        "id": "1WPNjhvarLau"
      }
    },
    {
      "cell_type": "code",
      "source": [
        "x=iris.iloc[:,:-1]\n",
        "y=iris.iloc[:,-1]"
        "X = iris.drop(columns=['species'])  # Assuming 'species' is the target column\n",
        "y = iris['species']"
      ],
      "metadata": {
        "id": "VfcbijdrrQS5"
      },
      "execution_count": 8,
      "outputs": []
    },
    {
      "cell_type": "code",
      "source": [
        "from sklearn.preprocessing import LabelEncoder\n",
        "le=LabelEncoder()\n",
        "y=le.fit_transform(y)"
      ],
      "metadata": {
        "id": "-XGpqpiNojnR"
      },
      "execution_count": 10,
      "execution_count": 13,
      "outputs": []
    },
    {
      "cell_type": "markdown",
      "source": [
        "## Split the dataset into training and testing sets\n"
      ],
      "metadata": {
        "id": "N7fEhlDrrTgS"
      }
    },
    {
      "cell_type": "code",
      "source": [
        "X_train, X_test, y_train, y_test = train_test_split(x, y, test_size=0.3, random_state=42)"
        "X_train, X_test, y_train, y_test = train_test_split(X, y, test_size=0.3, random_state=42)"
      ],
      "metadata": {
        "id": "920nxa_QrXLb"
      },
      "execution_count": 12,
      "execution_count": 14,
      "outputs": []
    },
    {
      "cell_type": "markdown",
      "source": [
        "## Convert the data into the format required by XGBoost (DMatrix)\n"
      ],
      "metadata": {
        "id": "1vcDZL6grZMT"
      }
    },
    {
      "cell_type": "code",
      "source": [
        "\n",
        "# Use the encoded labels when creating DMatrix\n",
        "dtrain = xgb.DMatrix(X_train, label=y_train)\n",
        "dtest = xgb.DMatrix(X_test, label=y_test)"
        "# Label encode the target variable\n",
        "label_encoder = LabelEncoder()\n",
        "y_train_encoded = label_encoder.fit_transform(y_train)\n",
        "y_test_encoded = label_encoder.transform(y_test)\n",
        "\n",
        "# Use the encoded labels when creating DMatrix\n",
        "dtrain = xgb.DMatrix(X_train, label=y_train_encoded)\n",
        "dtest = xgb.DMatrix(X_test, label=y_test_encoded)"
      ],
      "metadata": {
        "id": "Uevv-e7orcR5"
      },
      "execution_count": 14,
      "execution_count": 15,
      "outputs": []
    },
    {
      "cell_type": "code",
      "source": [
        "df = pd.DataFrame({\n",
        "    'Encoded Values': y_train.tolist(),\n",
        "    'Original Values': y_train.tolist()  # Use y_train for both columns to compare\n",
        "})\n",
        "\n",
        "    'Encoded Values': y_train_encoded,\n",
        "    'Original Values': y_train\n",
        "})\n",
        "df"
      ],
      "metadata": {
        "colab": {
          "base_uri": "https://localhost:8080/",
          "height": 423
        },
        "id": "Hv5rJNUaW6GK",
        "outputId": "1356eb46-bc22-45d8-d8f8-d179865a81f7"
      },
      "execution_count": 18,
          "height": 424
        },
        "id": "Hv5rJNUaW6GK",
        "outputId": "449d27ae-209d-4516-dabb-b87ed477fc8d"
      },
      "execution_count": 26,
      "outputs": [
        {
          "output_type": "execute_result",
          "data": {
            "text/plain": [
              "     Encoded Values  Original Values\n",
              "0                 1                1\n",
              "1                 2                2\n",
              "2                 2                2\n",
              "3                 1                1\n",
              "4                 2                2\n",
              "..              ...              ...\n",
              "100               1                1\n",
              "101               2                2\n",
              "102               0                0\n",
              "103               1                1\n",
              "104               2                2\n",
              "     Encoded Values Original Values\n",
              "81                1      versicolor\n",
              "133               2       virginica\n",
              "137               2       virginica\n",
              "75                1      versicolor\n",
              "109               2       virginica\n",
              "..              ...             ...\n",
              "71                1      versicolor\n",
              "106               2       virginica\n",
              "14                0          setosa\n",
              "92                1      versicolor\n",
              "102               2       virginica\n",
              "\n",
              "[105 rows x 2 columns]"
            ],
            "text/html": [
              "\n",
              "  <div id=\"df-33bda5b6-e6f6-42c4-9d17-640190ce8280\" class=\"colab-df-container\">\n",
              "  <div id=\"df-aa1956a7-58c7-40e7-935e-03f22bb0974a\" class=\"colab-df-container\">\n",
              "    <div>\n",
              "<style scoped>\n",
              "    .dataframe tbody tr th:only-of-type {\n",
              "        vertical-align: middle;\n",
              "    }\n",
              "\n",
              "    .dataframe tbody tr th {\n",
              "        vertical-align: top;\n",
              "    }\n",
              "\n",
              "    .dataframe thead th {\n",
              "        text-align: right;\n",
              "    }\n",
              "</style>\n",
              "<table border=\"1\" class=\"dataframe\">\n",
              "  <thead>\n",
              "    <tr style=\"text-align: right;\">\n",
              "      <th></th>\n",
              "      <th>Encoded Values</th>\n",
              "      <th>Original Values</th>\n",
              "    </tr>\n",
              "  </thead>\n",
              "  <tbody>\n",
              "    <tr>\n",
              "      <th>0</th>\n",
              "      <td>1</td>\n",
              "      <td>1</td>\n",
              "    </tr>\n",
              "    <tr>\n",
              "      <th>1</th>\n",
              "      <td>2</td>\n",
              "      <td>2</td>\n",
              "    </tr>\n",
              "    <tr>\n",
              "      <th>2</th>\n",
              "      <td>2</td>\n",
              "      <td>2</td>\n",
              "    </tr>\n",
              "    <tr>\n",
              "      <th>3</th>\n",
              "      <td>1</td>\n",
              "      <td>1</td>\n",
              "    </tr>\n",
              "    <tr>\n",
              "      <th>4</th>\n",
              "      <td>2</td>\n",
              "      <td>2</td>\n",
              "      <th>81</th>\n",
              "      <td>1</td>\n",
              "      <td>versicolor</td>\n",
              "    </tr>\n",
              "    <tr>\n",
              "      <th>133</th>\n",
              "      <td>2</td>\n",
              "      <td>virginica</td>\n",
              "    </tr>\n",
              "    <tr>\n",
              "      <th>137</th>\n",
              "      <td>2</td>\n",
              "      <td>virginica</td>\n",
              "    </tr>\n",
              "    <tr>\n",
              "      <th>75</th>\n",
              "      <td>1</td>\n",
              "      <td>versicolor</td>\n",
              "    </tr>\n",
              "    <tr>\n",
              "      <th>109</th>\n",
              "      <td>2</td>\n",
              "      <td>virginica</td>\n",
              "    </tr>\n",
              "    <tr>\n",
              "      <th>...</th>\n",
              "      <td>...</td>\n",
              "      <td>...</td>\n",
              "    </tr>\n",
              "    <tr>\n",
              "      <th>100</th>\n",
              "      <td>1</td>\n",
              "      <td>1</td>\n",
              "    </tr>\n",
              "    <tr>\n",
              "      <th>101</th>\n",
              "      <td>2</td>\n",
              "      <td>2</td>\n",
              "    </tr>\n",
              "    <tr>\n",
              "      <th>102</th>\n",
              "      <td>0</td>\n",
              "      <td>0</td>\n",
              "    </tr>\n",
              "    <tr>\n",
              "      <th>103</th>\n",
              "      <td>1</td>\n",
              "      <td>1</td>\n",
              "    </tr>\n",
              "    <tr>\n",
              "      <th>104</th>\n",
              "      <td>2</td>\n",
              "      <td>2</td>\n",
              "      <th>71</th>\n",
              "      <td>1</td>\n",
              "      <td>versicolor</td>\n",
              "    </tr>\n",
              "    <tr>\n",
              "      <th>106</th>\n",
              "      <td>2</td>\n",
              "      <td>virginica</td>\n",
              "    </tr>\n",
              "    <tr>\n",
              "      <th>14</th>\n",
              "      <td>0</td>\n",
              "      <td>setosa</td>\n",
              "    </tr>\n",
              "    <tr>\n",
              "      <th>92</th>\n",
              "      <td>1</td>\n",
              "      <td>versicolor</td>\n",
              "    </tr>\n",
              "    <tr>\n",
              "      <th>102</th>\n",
              "      <td>2</td>\n",
              "      <td>virginica</td>\n",
              "    </tr>\n",
              "  </tbody>\n",
              "</table>\n",
              "<p>105 rows × 2 columns</p>\n",
              "</div>\n",
              "    <div class=\"colab-df-buttons\">\n",
              "\n",
              "  <div class=\"colab-df-container\">\n",
              "    <button class=\"colab-df-convert\" onclick=\"convertToInteractive('df-33bda5b6-e6f6-42c4-9d17-640190ce8280')\"\n",
              "    <button class=\"colab-df-convert\" onclick=\"convertToInteractive('df-aa1956a7-58c7-40e7-935e-03f22bb0974a')\"\n",
              "            title=\"Convert this dataframe to an interactive table.\"\n",
              "            style=\"display:none;\">\n",
              "\n",
              "  <svg xmlns=\"http://www.w3.org/2000/svg\" height=\"24px\" viewBox=\"0 -960 960 960\">\n",
              "    <path d=\"M120-120v-720h720v720H120Zm60-500h600v-160H180v160Zm220 220h160v-160H400v160Zm0 220h160v-160H400v160ZM180-400h160v-160H180v160Zm440 0h160v-160H620v160ZM180-180h160v-160H180v160Zm440 0h160v-160H620v160Z\"/>\n",
              "  </svg>\n",
              "    </button>\n",
              "\n",
              "  <style>\n",
              "    .colab-df-container {\n",
              "      display:flex;\n",
              "      gap: 12px;\n",
              "    }\n",
              "\n",
              "    .colab-df-convert {\n",
              "      background-color: #E8F0FE;\n",
              "      border: none;\n",
              "      border-radius: 50%;\n",
              "      cursor: pointer;\n",
              "      display: none;\n",
              "      fill: #1967D2;\n",
              "      height: 32px;\n",
              "      padding: 0 0 0 0;\n",
              "      width: 32px;\n",
              "    }\n",
              "\n",
              "    .colab-df-convert:hover {\n",
              "      background-color: #E2EBFA;\n",
              "      box-shadow: 0px 1px 2px rgba(60, 64, 67, 0.3), 0px 1px 3px 1px rgba(60, 64, 67, 0.15);\n",
              "      fill: #174EA6;\n",
              "    }\n",
              "\n",
              "    .colab-df-buttons div {\n",
              "      margin-bottom: 4px;\n",
              "    }\n",
              "\n",
              "    [theme=dark] .colab-df-convert {\n",
              "      background-color: #3B4455;\n",
              "      fill: #D2E3FC;\n",
              "    }\n",
              "\n",
              "    [theme=dark] .colab-df-convert:hover {\n",
              "      background-color: #434B5C;\n",
              "      box-shadow: 0px 1px 3px 1px rgba(0, 0, 0, 0.15);\n",
              "      filter: drop-shadow(0px 1px 2px rgba(0, 0, 0, 0.3));\n",
              "      fill: #FFFFFF;\n",
              "    }\n",
              "  </style>\n",
              "\n",
              "    <script>\n",
              "      const buttonEl =\n",
              "        document.querySelector('#df-33bda5b6-e6f6-42c4-9d17-640190ce8280 button.colab-df-convert');\n",
              "        document.querySelector('#df-aa1956a7-58c7-40e7-935e-03f22bb0974a button.colab-df-convert');\n",
              "      buttonEl.style.display =\n",
              "        google.colab.kernel.accessAllowed ? 'block' : 'none';\n",
              "\n",
              "      async function convertToInteractive(key) {\n",
              "        const element = document.querySelector('#df-33bda5b6-e6f6-42c4-9d17-640190ce8280');\n",
              "        const element = document.querySelector('#df-aa1956a7-58c7-40e7-935e-03f22bb0974a');\n",
              "        const dataTable =\n",
              "          await google.colab.kernel.invokeFunction('convertToInteractive',\n",
              "                                                    [key], {});\n",
              "        if (!dataTable) return;\n",
              "\n",
              "        const docLinkHtml = 'Like what you see? Visit the ' +\n",
              "          '<a target=\"_blank\" href=https://colab.research.google.com/notebooks/data_table.ipynb>data table notebook</a>'\n",
              "          + ' to learn more about interactive tables.';\n",
              "        element.innerHTML = '';\n",
              "        dataTable['output_type'] = 'display_data';\n",
              "        await google.colab.output.renderOutput(dataTable, element);\n",
              "        const docLink = document.createElement('div');\n",
              "        docLink.innerHTML = docLinkHtml;\n",
              "        element.appendChild(docLink);\n",
              "      }\n",
              "    </script>\n",
              "  </div>\n",
              "\n",
              "\n",
              "<div id=\"df-08731f3a-1f8a-4920-b34f-f249b4838623\">\n",
              "  <button class=\"colab-df-quickchart\" onclick=\"quickchart('df-08731f3a-1f8a-4920-b34f-f249b4838623')\"\n",
              "<div id=\"df-06d8e017-cb6a-4e14-8aa8-c1f29ab4f0b4\">\n",
              "  <button class=\"colab-df-quickchart\" onclick=\"quickchart('df-06d8e017-cb6a-4e14-8aa8-c1f29ab4f0b4')\"\n",
              "            title=\"Suggest charts\"\n",
              "            style=\"display:none;\">\n",
              "\n",
              "<svg xmlns=\"http://www.w3.org/2000/svg\" height=\"24px\"viewBox=\"0 0 24 24\"\n",
              "     width=\"24px\">\n",
              "    <g>\n",
              "        <path d=\"M19 3H5c-1.1 0-2 .9-2 2v14c0 1.1.9 2 2 2h14c1.1 0 2-.9 2-2V5c0-1.1-.9-2-2-2zM9 17H7v-7h2v7zm4 0h-2V7h2v10zm4 0h-2v-4h2v4z\"/>\n",
              "    </g>\n",
              "</svg>\n",
              "  </button>\n",
              "\n",
              "<style>\n",
              "  .colab-df-quickchart {\n",
              "      --bg-color: #E8F0FE;\n",
              "      --fill-color: #1967D2;\n",
              "      --hover-bg-color: #E2EBFA;\n",
              "      --hover-fill-color: #174EA6;\n",
              "      --disabled-fill-color: #AAA;\n",
              "      --disabled-bg-color: #DDD;\n",
              "  }\n",
              "\n",
              "  [theme=dark] .colab-df-quickchart {\n",
              "      --bg-color: #3B4455;\n",
              "      --fill-color: #D2E3FC;\n",
              "      --hover-bg-color: #434B5C;\n",
              "      --hover-fill-color: #FFFFFF;\n",
              "      --disabled-bg-color: #3B4455;\n",
              "      --disabled-fill-color: #666;\n",
              "  }\n",
              "\n",
              "  .colab-df-quickchart {\n",
              "    background-color: var(--bg-color);\n",
              "    border: none;\n",
              "    border-radius: 50%;\n",
              "    cursor: pointer;\n",
              "    display: none;\n",
              "    fill: var(--fill-color);\n",
              "    height: 32px;\n",
              "    padding: 0;\n",
              "    width: 32px;\n",
              "  }\n",
              "\n",
              "  .colab-df-quickchart:hover {\n",
              "    background-color: var(--hover-bg-color);\n",
              "    box-shadow: 0 1px 2px rgba(60, 64, 67, 0.3), 0 1px 3px 1px rgba(60, 64, 67, 0.15);\n",
              "    fill: var(--button-hover-fill-color);\n",
              "  }\n",
              "\n",
              "  .colab-df-quickchart-complete:disabled,\n",
              "  .colab-df-quickchart-complete:disabled:hover {\n",
              "    background-color: var(--disabled-bg-color);\n",
              "    fill: var(--disabled-fill-color);\n",
              "    box-shadow: none;\n",
              "  }\n",
              "\n",
              "  .colab-df-spinner {\n",
              "    border: 2px solid var(--fill-color);\n",
              "    border-color: transparent;\n",
              "    border-bottom-color: var(--fill-color);\n",
              "    animation:\n",
              "      spin 1s steps(1) infinite;\n",
              "  }\n",
              "\n",
              "  @keyframes spin {\n",
              "    0% {\n",
              "      border-color: transparent;\n",
              "      border-bottom-color: var(--fill-color);\n",
              "      border-left-color: var(--fill-color);\n",
              "    }\n",
              "    20% {\n",
              "      border-color: transparent;\n",
              "      border-left-color: var(--fill-color);\n",
              "      border-top-color: var(--fill-color);\n",
              "    }\n",
              "    30% {\n",
              "      border-color: transparent;\n",
              "      border-left-color: var(--fill-color);\n",
              "      border-top-color: var(--fill-color);\n",
              "      border-right-color: var(--fill-color);\n",
              "    }\n",
              "    40% {\n",
              "      border-color: transparent;\n",
              "      border-right-color: var(--fill-color);\n",
              "      border-top-color: var(--fill-color);\n",
              "    }\n",
              "    60% {\n",
              "      border-color: transparent;\n",
              "      border-right-color: var(--fill-color);\n",
              "    }\n",
              "    80% {\n",
              "      border-color: transparent;\n",
              "      border-right-color: var(--fill-color);\n",
              "      border-bottom-color: var(--fill-color);\n",
              "    }\n",
              "    90% {\n",
              "      border-color: transparent;\n",
              "      border-bottom-color: var(--fill-color);\n",
              "    }\n",
              "  }\n",
              "</style>\n",
              "\n",
              "  <script>\n",
              "    async function quickchart(key) {\n",
              "      const quickchartButtonEl =\n",
              "        document.querySelector('#' + key + ' button');\n",
              "      quickchartButtonEl.disabled = true;  // To prevent multiple clicks.\n",
              "      quickchartButtonEl.classList.add('colab-df-spinner');\n",
              "      try {\n",
              "        const charts = await google.colab.kernel.invokeFunction(\n",
              "            'suggestCharts', [key], {});\n",
              "      } catch (error) {\n",
              "        console.error('Error during call to suggestCharts:', error);\n",
              "      }\n",
              "      quickchartButtonEl.classList.remove('colab-df-spinner');\n",
              "      quickchartButtonEl.classList.add('colab-df-quickchart-complete');\n",
              "    }\n",
              "    (() => {\n",
              "      let quickchartButtonEl =\n",
              "        document.querySelector('#df-08731f3a-1f8a-4920-b34f-f249b4838623 button');\n",
              "        document.querySelector('#df-06d8e017-cb6a-4e14-8aa8-c1f29ab4f0b4 button');\n",
              "      quickchartButtonEl.style.display =\n",
              "        google.colab.kernel.accessAllowed ? 'block' : 'none';\n",
              "    })();\n",
              "  </script>\n",
              "</div>\n",
              "\n",
              "  <div id=\"id_553f26fe-59c5-495e-b760-32831c72f73d\">\n",
              "  <div id=\"id_c2318d2d-cef4-480e-ae30-feb9cb22b6e8\">\n",
              "    <style>\n",
              "      .colab-df-generate {\n",
              "        background-color: #E8F0FE;\n",
              "        border: none;\n",
              "        border-radius: 50%;\n",
              "        cursor: pointer;\n",
              "        display: none;\n",
              "        fill: #1967D2;\n",
              "        height: 32px;\n",
              "        padding: 0 0 0 0;\n",
              "        width: 32px;\n",
              "      }\n",
              "\n",
              "      .colab-df-generate:hover {\n",
              "        background-color: #E2EBFA;\n",
              "        box-shadow: 0px 1px 2px rgba(60, 64, 67, 0.3), 0px 1px 3px 1px rgba(60, 64, 67, 0.15);\n",
              "        fill: #174EA6;\n",
              "      }\n",
              "\n",
              "      [theme=dark] .colab-df-generate {\n",
              "        background-color: #3B4455;\n",
              "        fill: #D2E3FC;\n",
              "      }\n",
              "\n",
              "      [theme=dark] .colab-df-generate:hover {\n",
              "        background-color: #434B5C;\n",
              "        box-shadow: 0px 1px 3px 1px rgba(0, 0, 0, 0.15);\n",
              "        filter: drop-shadow(0px 1px 2px rgba(0, 0, 0, 0.3));\n",
              "        fill: #FFFFFF;\n",
              "      }\n",
              "    </style>\n",
              "    <button class=\"colab-df-generate\" onclick=\"generateWithVariable('df')\"\n",
              "            title=\"Generate code using this dataframe.\"\n",
              "            style=\"display:none;\">\n",
              "\n",
              "  <svg xmlns=\"http://www.w3.org/2000/svg\" height=\"24px\"viewBox=\"0 0 24 24\"\n",
              "       width=\"24px\">\n",
              "    <path d=\"M7,19H8.4L18.45,9,17,7.55,7,17.6ZM5,21V16.75L18.45,3.32a2,2,0,0,1,2.83,0l1.4,1.43a1.91,1.91,0,0,1,.58,1.4,1.91,1.91,0,0,1-.58,1.4L9.25,21ZM18.45,9,17,7.55Zm-12,3A5.31,5.31,0,0,0,4.9,8.1,5.31,5.31,0,0,0,1,6.5,5.31,5.31,0,0,0,4.9,4.9,5.31,5.31,0,0,0,6.5,1,5.31,5.31,0,0,0,8.1,4.9,5.31,5.31,0,0,0,12,6.5,5.46,5.46,0,0,0,6.5,12Z\"/>\n",
              "  </svg>\n",
              "    </button>\n",
              "    <script>\n",
              "      (() => {\n",
              "      const buttonEl =\n",
              "        document.querySelector('#id_553f26fe-59c5-495e-b760-32831c72f73d button.colab-df-generate');\n",
              "        document.querySelector('#id_c2318d2d-cef4-480e-ae30-feb9cb22b6e8 button.colab-df-generate');\n",
              "      buttonEl.style.display =\n",
              "        google.colab.kernel.accessAllowed ? 'block' : 'none';\n",
              "\n",
              "      buttonEl.onclick = () => {\n",
              "        google.colab.notebook.generateWithVariable('df');\n",
              "      }\n",
              "      })();\n",
              "    </script>\n",
              "  </div>\n",
              "\n",
              "    </div>\n",
              "  </div>\n"
            ],
            "application/vnd.google.colaboratory.intrinsic+json": {
              "type": "dataframe",
              "variable_name": "df",
              "summary": "{\n  \"name\": \"df\",\n  \"rows\": 105,\n  \"fields\": [\n    {\n      \"column\": \"Encoded Values\",\n      \"properties\": {\n        \"dtype\": \"number\",\n        \"std\": 0,\n        \"min\": 0,\n        \"max\": 2,\n        \"num_unique_values\": 3,\n        \"samples\": [\n          1,\n          2,\n          0\n        ],\n        \"semantic_type\": \"\",\n        \"description\": \"\"\n      }\n    },\n    {\n      \"column\": \"Original Values\",\n      \"properties\": {\n        \"dtype\": \"number\",\n        \"std\": 0,\n        \"min\": 0,\n        \"max\": 2,\n        \"num_unique_values\": 3,\n        \"samples\": [\n          1,\n          2,\n          0\n        ],\n        \"semantic_type\": \"\",\n        \"description\": \"\"\n      }\n    }\n  ]\n}"
            }
          },
          "metadata": {},
          "execution_count": 18
              "summary": "{\n  \"name\": \"df\",\n  \"rows\": 105,\n  \"fields\": [\n    {\n      \"column\": \"Encoded Values\",\n      \"properties\": {\n        \"dtype\": \"number\",\n        \"std\": 0,\n        \"min\": 0,\n        \"max\": 2,\n        \"num_unique_values\": 3,\n        \"samples\": [\n          1,\n          2,\n          0\n        ],\n        \"semantic_type\": \"\",\n        \"description\": \"\"\n      }\n    },\n    {\n      \"column\": \"Original Values\",\n      \"properties\": {\n        \"dtype\": \"category\",\n        \"num_unique_values\": 3,\n        \"samples\": [\n          \"versicolor\",\n          \"virginica\",\n          \"setosa\"\n        ],\n        \"semantic_type\": \"\",\n        \"description\": \"\"\n      }\n    }\n  ]\n}"
            }
          },
          "metadata": {},
          "execution_count": 26
        }
      ]
    },
    {
      "cell_type": "markdown",
      "source": [
        "## Set up the parameters for the XGBoost model\n"
      ],
      "metadata": {
        "id": "wsvNvNVRrmji"
      }
    },
    {
      "cell_type": "code",
      "source": [
        "params = {\n",
        "    'objective': 'multi:softmax',  # Multiclass classification\n",
        "    'num_class': 3,  # Number of classes in the target variable (iris dataset has 3 classes)\n",
        "    'max_depth': 3,  # Maximum depth of the trees\n",
        "    'eta': 0.3,  # Learning rate\n",
        "    'eval_metric': 'mlogloss'  # Evaluation metric: multi-class logarithmic loss\n",
        "}"
      ],
      "metadata": {
        "id": "8YbKm4Mhrprg"
      },
      "execution_count": 19,
      "execution_count": 16,
      "outputs": []
    },
    {
      "cell_type": "markdown",
      "source": [
        "## Train the model\n"
      ],
      "metadata": {
        "id": "ffpQZnRirsse"
      }
    },
    {
      "cell_type": "code",
      "source": [
        "bst = xgb.train(params, dtrain, num_boost_round=100)"
      ],
      "metadata": {
        "id": "X9q5pxIarvex"
      },
      "execution_count": 20,
      "execution_count": 17,
      "outputs": []
    },
    {
      "cell_type": "markdown",
      "source": [
        "## Make predictions"
      ],
      "metadata": {
        "id": "_aic4h9Wryjl"
      }
    },
    {
      "cell_type": "code",
      "source": [
        "y_pred = bst.predict(dtest)"
      ],
      "metadata": {
        "id": "uTlVlU_2r2H8"
      },
      "execution_count": 21,
      "execution_count": 18,
      "outputs": []
    },
    {
      "cell_type": "markdown",
      "source": [
        "## Evaluate the accuracy\n"
      ],
      "metadata": {
        "id": "gjbrj1XKr4tE"
      }
    },
    {
      "cell_type": "code",
      "source": [
        "accuracy = accuracy_score(y_test, y_pred)\n",
        "print(f\"Accuracy: {accuracy * 100:.2f}%\")"
      ],
      "metadata": {
        "id": "DX6IMb6Rr8CU",
        "colab": {
          "base_uri": "https://localhost:8080/"
        },
        "outputId": "9cfeccf0-16db-4575-9c61-1221b27eb0bd"
      },
      "execution_count": 22,
        "outputId": "3f62fedf-7264-4417-c21c-4b6a5eb4fde7"
      },
      "execution_count": 19,
      "outputs": [
        {
          "output_type": "stream",
          "name": "stdout",
          "text": [
            "Accuracy: 100.00%\n"
            "Accuracy: 0.00%\n"
          ]
        }
      ]
    },
    {
      "cell_type": "markdown",
      "source": [
        "# Optional: Feature Importance Plot"
      ],
      "metadata": {
        "id": "4cwT3uDmsAPr"
      }
    },
    {
      "cell_type": "code",
      "source": [
        "xgb.plot_importance(bst)\n",
        "import matplotlib.pyplot as plt\n",
        "plt.show()"
      ],
      "metadata": {
        "id": "zEPhwHJCsDye",
        "colab": {
          "base_uri": "https://localhost:8080/",
          "height": 453
        },
        "outputId": "017c27fd-e3ed-4a26-8c33-4fab96e00b70"
      },
      "execution_count": 23,
          "height": 469
        },
        "outputId": "11dee6be-f4a2-4c77-f6d7-3f3d2ed90766"
      },
      "execution_count": 20,
      "outputs": [
        {
          "output_type": "display_data",
          "data": {
            "text/plain": [
              "<Figure size 640x480 with 1 Axes>"
            ],
            "image/png": "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\n"
            "image/png": "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\n"
          },
          "metadata": {}
        }
      ]
    }
  ]
}